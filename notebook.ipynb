{
 "cells": [
  {
   "attachments": {},
   "cell_type": "markdown",
   "metadata": {},
   "source": [
    "There are 4 columns in csv file: \n",
    "\n",
    "* the filepaths column contains the relative path to the image file\n",
    "* the labels column contains the text label associated with the image file\n",
    "* the data set column defines which dataset the image file belongs to (either train or test)\n",
    "* the class index column defines the integer index of the images class where:\n",
    "    * class Dark has class index 0\n",
    "    * class Green has class index 1\n",
    "    * class Light has class index 2\n",
    "    * class Medium has class index 3"
   ]
  },
  {
   "cell_type": "code",
   "execution_count": 1,
   "metadata": {},
   "outputs": [],
   "source": [
    "import numpy as np\n",
    "import pandas as pd\n",
    "from sklearn.model_selection import train_test_split"
   ]
  },
  {
   "cell_type": "code",
   "execution_count": 2,
   "metadata": {},
   "outputs": [],
   "source": [
    "df = pd.read_csv('./data/Coffee Bean.csv')"
   ]
  },
  {
   "cell_type": "code",
   "execution_count": 3,
   "metadata": {},
   "outputs": [
    {
     "data": {
      "text/plain": [
       "(1600, 4)"
      ]
     },
     "execution_count": 3,
     "metadata": {},
     "output_type": "execute_result"
    }
   ],
   "source": [
    "df.shape"
   ]
  },
  {
   "cell_type": "code",
   "execution_count": 4,
   "metadata": {},
   "outputs": [
    {
     "data": {
      "text/html": [
       "<div>\n",
       "<style scoped>\n",
       "    .dataframe tbody tr th:only-of-type {\n",
       "        vertical-align: middle;\n",
       "    }\n",
       "\n",
       "    .dataframe tbody tr th {\n",
       "        vertical-align: top;\n",
       "    }\n",
       "\n",
       "    .dataframe thead th {\n",
       "        text-align: right;\n",
       "    }\n",
       "</style>\n",
       "<table border=\"1\" class=\"dataframe\">\n",
       "  <thead>\n",
       "    <tr style=\"text-align: right;\">\n",
       "      <th></th>\n",
       "      <th>class_index</th>\n",
       "      <th>filepaths</th>\n",
       "      <th>labels</th>\n",
       "      <th>data_set</th>\n",
       "    </tr>\n",
       "  </thead>\n",
       "  <tbody>\n",
       "    <tr>\n",
       "      <th>0</th>\n",
       "      <td>0</td>\n",
       "      <td>train/Dark/dark (1).png</td>\n",
       "      <td>Dark</td>\n",
       "      <td>train</td>\n",
       "    </tr>\n",
       "    <tr>\n",
       "      <th>1</th>\n",
       "      <td>0</td>\n",
       "      <td>train/Dark/dark (10).png</td>\n",
       "      <td>Dark</td>\n",
       "      <td>train</td>\n",
       "    </tr>\n",
       "    <tr>\n",
       "      <th>2</th>\n",
       "      <td>0</td>\n",
       "      <td>train/Dark/dark (100).png</td>\n",
       "      <td>Dark</td>\n",
       "      <td>train</td>\n",
       "    </tr>\n",
       "    <tr>\n",
       "      <th>3</th>\n",
       "      <td>0</td>\n",
       "      <td>train/Dark/dark (101).png</td>\n",
       "      <td>Dark</td>\n",
       "      <td>train</td>\n",
       "    </tr>\n",
       "    <tr>\n",
       "      <th>4</th>\n",
       "      <td>0</td>\n",
       "      <td>train/Dark/dark (102).png</td>\n",
       "      <td>Dark</td>\n",
       "      <td>train</td>\n",
       "    </tr>\n",
       "  </tbody>\n",
       "</table>\n",
       "</div>"
      ],
      "text/plain": [
       "   class_index                  filepaths labels data_set\n",
       "0            0    train/Dark/dark (1).png   Dark    train\n",
       "1            0   train/Dark/dark (10).png   Dark    train\n",
       "2            0  train/Dark/dark (100).png   Dark    train\n",
       "3            0  train/Dark/dark (101).png   Dark    train\n",
       "4            0  train/Dark/dark (102).png   Dark    train"
      ]
     },
     "execution_count": 4,
     "metadata": {},
     "output_type": "execute_result"
    }
   ],
   "source": [
    "df.columns = df.columns.str.lower().str.replace(' ', '_')\n",
    "df.head()"
   ]
  },
  {
   "cell_type": "code",
   "execution_count": 5,
   "metadata": {},
   "outputs": [
    {
     "data": {
      "text/plain": [
       "Index(['class_index', 'filepaths', 'labels', 'data_set'], dtype='object')"
      ]
     },
     "execution_count": 5,
     "metadata": {},
     "output_type": "execute_result"
    }
   ],
   "source": [
    "df.columns"
   ]
  },
  {
   "cell_type": "code",
   "execution_count": 6,
   "metadata": {},
   "outputs": [
    {
     "data": {
      "text/plain": [
       "data_set\n",
       "test     0.25\n",
       "train    0.75\n",
       "Name: class_index, dtype: float64"
      ]
     },
     "execution_count": 6,
     "metadata": {},
     "output_type": "execute_result"
    }
   ],
   "source": [
    "df.groupby(by='data_set')['class_index'].count()/df.shape[0]"
   ]
  },
  {
   "attachments": {},
   "cell_type": "markdown",
   "metadata": {},
   "source": [
    "It is used 25% of data for testing. Let's keep it"
   ]
  },
  {
   "attachments": {},
   "cell_type": "markdown",
   "metadata": {},
   "source": [
    "## Data preparation and setting validation framework"
   ]
  },
  {
   "cell_type": "code",
   "execution_count": 7,
   "metadata": {},
   "outputs": [],
   "source": [
    "df_full_train = df[df.data_set == 'train']\n",
    "del df_full_train['data_set']\n",
    "df_test = df[df.data_set == 'test']\n",
    "del df_test['data_set']"
   ]
  },
  {
   "attachments": {},
   "cell_type": "markdown",
   "metadata": {},
   "source": [
    "We will use 20% of train data for validation"
   ]
  },
  {
   "cell_type": "code",
   "execution_count": 8,
   "metadata": {},
   "outputs": [],
   "source": [
    "ramdom_state = 42\n",
    "df_train, df_val = train_test_split(df_full_train, test_size=0.2, random_state=ramdom_state)"
   ]
  },
  {
   "cell_type": "code",
   "execution_count": 9,
   "metadata": {},
   "outputs": [
    {
     "data": {
      "text/plain": [
       "((960, 3), (240, 3), (400, 3))"
      ]
     },
     "execution_count": 9,
     "metadata": {},
     "output_type": "execute_result"
    }
   ],
   "source": [
    "df_train.shape, df_val.shape, df_test.shape"
   ]
  },
  {
   "attachments": {},
   "cell_type": "markdown",
   "metadata": {},
   "source": [
    "# EDA"
   ]
  },
  {
   "cell_type": "code",
   "execution_count": 10,
   "metadata": {},
   "outputs": [
    {
     "data": {
      "text/plain": [
       "class_index    0\n",
       "filepaths      0\n",
       "labels         0\n",
       "dtype: int64"
      ]
     },
     "execution_count": 10,
     "metadata": {},
     "output_type": "execute_result"
    }
   ],
   "source": [
    "df_train.isnull().sum()"
   ]
  },
  {
   "attachments": {},
   "cell_type": "markdown",
   "metadata": {},
   "source": [
    "There are no missed values"
   ]
  },
  {
   "cell_type": "code",
   "execution_count": 11,
   "metadata": {},
   "outputs": [
    {
     "name": "stdout",
     "output_type": "stream",
     "text": [
      "<class 'pandas.core.frame.DataFrame'>\n",
      "Int64Index: 960 entries, 331 to 1126\n",
      "Data columns (total 3 columns):\n",
      " #   Column       Non-Null Count  Dtype \n",
      "---  ------       --------------  ----- \n",
      " 0   class_index  960 non-null    int64 \n",
      " 1   filepaths    960 non-null    object\n",
      " 2   labels       960 non-null    object\n",
      "dtypes: int64(1), object(2)\n",
      "memory usage: 30.0+ KB\n"
     ]
    }
   ],
   "source": [
    "df_train.info()"
   ]
  },
  {
   "attachments": {},
   "cell_type": "markdown",
   "metadata": {},
   "source": [
    "Class_index and labels are the same features. So Class_index is a categorical feature"
   ]
  },
  {
   "cell_type": "code",
   "execution_count": 12,
   "metadata": {},
   "outputs": [
    {
     "data": {
      "text/html": [
       "<div>\n",
       "<style scoped>\n",
       "    .dataframe tbody tr th:only-of-type {\n",
       "        vertical-align: middle;\n",
       "    }\n",
       "\n",
       "    .dataframe tbody tr th {\n",
       "        vertical-align: top;\n",
       "    }\n",
       "\n",
       "    .dataframe thead th {\n",
       "        text-align: right;\n",
       "    }\n",
       "</style>\n",
       "<table border=\"1\" class=\"dataframe\">\n",
       "  <thead>\n",
       "    <tr style=\"text-align: right;\">\n",
       "      <th></th>\n",
       "      <th>labels</th>\n",
       "      <th>count</th>\n",
       "    </tr>\n",
       "  </thead>\n",
       "  <tbody>\n",
       "    <tr>\n",
       "      <th>0</th>\n",
       "      <td>Dark</td>\n",
       "      <td>238</td>\n",
       "    </tr>\n",
       "    <tr>\n",
       "      <th>1</th>\n",
       "      <td>Green</td>\n",
       "      <td>240</td>\n",
       "    </tr>\n",
       "    <tr>\n",
       "      <th>2</th>\n",
       "      <td>Light</td>\n",
       "      <td>240</td>\n",
       "    </tr>\n",
       "    <tr>\n",
       "      <th>3</th>\n",
       "      <td>Medium</td>\n",
       "      <td>242</td>\n",
       "    </tr>\n",
       "  </tbody>\n",
       "</table>\n",
       "</div>"
      ],
      "text/plain": [
       "   labels  count\n",
       "0    Dark    238\n",
       "1   Green    240\n",
       "2   Light    240\n",
       "3  Medium    242"
      ]
     },
     "execution_count": 12,
     "metadata": {},
     "output_type": "execute_result"
    }
   ],
   "source": [
    "df_labels = df_train.groupby('labels')['filepaths'].count().reset_index()\n",
    "df_labels.columns = ['labels', 'count']\n",
    "df_labels"
   ]
  },
  {
   "cell_type": "code",
   "execution_count": 13,
   "metadata": {},
   "outputs": [],
   "source": [
    "import matplotlib.pyplot as plt\n",
    "import seaborn as sns\n",
    "%matplotlib inline"
   ]
  },
  {
   "cell_type": "code",
   "execution_count": 14,
   "metadata": {},
   "outputs": [
    {
     "data": {
      "text/plain": [
       "<AxesSubplot:xlabel='labels', ylabel='count'>"
      ]
     },
     "execution_count": 14,
     "metadata": {},
     "output_type": "execute_result"
    },
    {
     "data": {
      "image/png": "[encoded data removed]",
      "text/plain": [
       "<Figure size 360x216 with 1 Axes>"
      ]
     },
     "metadata": {
      "needs_background": "light"
     },
     "output_type": "display_data"
    }
   ],
   "source": [
    "plt.figure(figsize=(5,3))\n",
    "sns.barplot(x=df_labels['labels'], y=df_labels['count'])\n"
   ]
  },
  {
   "attachments": {},
   "cell_type": "markdown",
   "metadata": {},
   "source": [
    "Train data is balansed. Try to find duplicates"
   ]
  },
  {
   "cell_type": "code",
   "execution_count": 15,
   "metadata": {},
   "outputs": [],
   "source": [
    "from PIL import Image\n",
    "import imagehash\n",
    "\n",
    "def calculate_phashes(image_stream):\n",
    "    img = Image.open(image_stream)\n",
    "    phash = str(imagehash.phash(img))\n",
    "    return phash\n"
   ]
  },
  {
   "cell_type": "code",
   "execution_count": 16,
   "metadata": {},
   "outputs": [],
   "source": [
    "phashes = []\n",
    "for path in df_train.filepaths:\n",
    "    im_path = './data/' + path\n",
    "    phashes.append(calculate_phashes(im_path))"
   ]
  },
  {
   "cell_type": "code",
   "execution_count": 17,
   "metadata": {},
   "outputs": [],
   "source": [
    "df_train['phashes'] = phashes"
   ]
  },
  {
   "cell_type": "code",
   "execution_count": 18,
   "metadata": {},
   "outputs": [],
   "source": [
    "df_train = df_train.reset_index(drop=True)"
   ]
  },
  {
   "cell_type": "code",
   "execution_count": 19,
   "metadata": {},
   "outputs": [
    {
     "data": {
      "text/html": [
       "<div>\n",
       "<style scoped>\n",
       "    .dataframe tbody tr th:only-of-type {\n",
       "        vertical-align: middle;\n",
       "    }\n",
       "\n",
       "    .dataframe tbody tr th {\n",
       "        vertical-align: top;\n",
       "    }\n",
       "\n",
       "    .dataframe thead th {\n",
       "        text-align: right;\n",
       "    }\n",
       "</style>\n",
       "<table border=\"1\" class=\"dataframe\">\n",
       "  <thead>\n",
       "    <tr style=\"text-align: right;\">\n",
       "      <th></th>\n",
       "      <th>0</th>\n",
       "    </tr>\n",
       "  </thead>\n",
       "  <tbody>\n",
       "    <tr>\n",
       "      <th>307</th>\n",
       "      <td>True</td>\n",
       "    </tr>\n",
       "    <tr>\n",
       "      <th>428</th>\n",
       "      <td>True</td>\n",
       "    </tr>\n",
       "    <tr>\n",
       "      <th>696</th>\n",
       "      <td>True</td>\n",
       "    </tr>\n",
       "    <tr>\n",
       "      <th>795</th>\n",
       "      <td>True</td>\n",
       "    </tr>\n",
       "  </tbody>\n",
       "</table>\n",
       "</div>"
      ],
      "text/plain": [
       "        0\n",
       "307  True\n",
       "428  True\n",
       "696  True\n",
       "795  True"
      ]
     },
     "execution_count": 19,
     "metadata": {},
     "output_type": "execute_result"
    }
   ],
   "source": [
    "duplicates = pd.DataFrame(df_train.duplicated(subset=['phashes']) )\n",
    "duplicates[duplicates[0] == True]"
   ]
  },
  {
   "cell_type": "code",
   "execution_count": 20,
   "metadata": {},
   "outputs": [],
   "source": [
    "list_of_indices = list(duplicates[duplicates[0] == True].index)"
   ]
  },
  {
   "cell_type": "code",
   "execution_count": 21,
   "metadata": {},
   "outputs": [],
   "source": [
    "dupl_hashes_list = list(df_train.iloc[list_of_indices]['phashes'])"
   ]
  },
  {
   "cell_type": "code",
   "execution_count": 22,
   "metadata": {},
   "outputs": [
    {
     "data": {
      "text/plain": [
       "['e3849d1b9a696965',\n",
       " 'fb94c04a8f6d3866',\n",
       " 'b2c7c93c2433678d',\n",
       " 'e96997d6189a6361']"
      ]
     },
     "execution_count": 22,
     "metadata": {},
     "output_type": "execute_result"
    }
   ],
   "source": [
    "dupl_hashes_list"
   ]
  },
  {
   "cell_type": "code",
   "execution_count": 23,
   "metadata": {},
   "outputs": [
    {
     "data": {
      "image/png": "[encoded data removed]",
      "text/plain": [
       "<Figure size 360x360 with 2 Axes>"
      ]
     },
     "metadata": {},
     "output_type": "display_data"
    },
    {
     "data": {
      "image/png": "[encoded data removed]",
      "text/plain": [
       "<Figure size 360x360 with 2 Axes>"
      ]
     },
     "metadata": {},
     "output_type": "display_data"
    },
    {
     "data": {
      "image/png": "[encoded data removed]",
      "text/plain": [
       "<Figure size 360x360 with 2 Axes>"
      ]
     },
     "metadata": {},
     "output_type": "display_data"
    },
    {
     "data": {
      "image/png": "[encoded data removed]",
      "text/plain": [
       "<Figure size 360x360 with 2 Axes>"
      ]
     },
     "metadata": {},
     "output_type": "display_data"
    }
   ],
   "source": [
    "for hash in dupl_hashes_list:\n",
    "    filepath_list = list(df_train[df_train.phashes == hash]['filepaths'])\n",
    "    plt.figure(figsize=(5,5))\n",
    "    for ind, path in enumerate(filepath_list):\n",
    "        im_path = './data/' + path\n",
    "        img = Image.open(im_path)\n",
    "        plt.subplot(1, 2, ind+1)\n",
    "        plt.xticks([])\n",
    "        plt.yticks([])\n",
    "        plt.imshow(img)"
   ]
  },
  {
   "attachments": {},
   "cell_type": "markdown",
   "metadata": {},
   "source": [
    "Indeed, there are some duplicates in the dataset. Let's delete them"
   ]
  },
  {
   "cell_type": "code",
   "execution_count": 24,
   "metadata": {},
   "outputs": [],
   "source": [
    "df_train = df_train.drop_duplicates(subset=['phashes'], keep='first').reset_index(drop=True)"
   ]
  },
  {
   "attachments": {},
   "cell_type": "markdown",
   "metadata": {},
   "source": [
    "Check size of images"
   ]
  },
  {
   "cell_type": "code",
   "execution_count": 25,
   "metadata": {},
   "outputs": [
    {
     "data": {
      "text/plain": [
       "{(224, 224)}"
      ]
     },
     "execution_count": 25,
     "metadata": {},
     "output_type": "execute_result"
    }
   ],
   "source": [
    "size = []\n",
    "for path in df_train.filepaths:\n",
    "    im_path = './data/' + path\n",
    "    img = Image.open(im_path)\n",
    "    size.append(img.size)\n",
    "\n",
    "set(size)"
   ]
  },
  {
   "attachments": {},
   "cell_type": "markdown",
   "metadata": {},
   "source": [
    "All pictures have the same size. Let's visualize pictures from different classes"
   ]
  },
  {
   "cell_type": "code",
   "execution_count": 26,
   "metadata": {},
   "outputs": [
    {
     "data": {
      "image/png": "[encoded data removed]",
      "text/plain": [
       "<Figure size 360x360 with 4 Axes>"
      ]
     },
     "metadata": {},
     "output_type": "display_data"
    }
   ],
   "source": [
    "plt.figure(figsize=(5,5))\n",
    "for ind, cl in enumerate(df_labels['labels']):\n",
    "    path = df_train[df_train['labels'] == cl].iloc[0]['filepaths']\n",
    "    im_path = './data/' + path\n",
    "    img = Image.open(im_path)\n",
    "    plt.subplot(1, 4, ind+1)\n",
    "    plt.xticks([])\n",
    "    plt.yticks([])\n",
    "    plt.title(cl)\n",
    "    plt.imshow(img)\n",
    "    \n"
   ]
  },
  {
   "attachments": {},
   "cell_type": "markdown",
   "metadata": {},
   "source": [
    "Let's prepare validation data"
   ]
  },
  {
   "cell_type": "code",
   "execution_count": 27,
   "metadata": {},
   "outputs": [],
   "source": [
    "def data_preparation(dataset):\n",
    "    phashes = []\n",
    "    for path in dataset.filepaths:\n",
    "        im_path = './data/' + path\n",
    "        phashes.append(calculate_phashes(im_path))\n",
    "    dataset['phashes'] = phashes\n",
    "    dataset = dataset.drop_duplicates(subset=['phashes'], keep='first').reset_index(drop=True)\n",
    "    return dataset"
   ]
  },
  {
   "cell_type": "code",
   "execution_count": 28,
   "metadata": {},
   "outputs": [],
   "source": [
    "df_val = data_preparation(df_val)"
   ]
  },
  {
   "cell_type": "code",
   "execution_count": 29,
   "metadata": {},
   "outputs": [
    {
     "data": {
      "text/plain": [
       "(240, 4)"
      ]
     },
     "execution_count": 29,
     "metadata": {},
     "output_type": "execute_result"
    }
   ],
   "source": [
    "df_val.shape"
   ]
  },
  {
   "attachments": {},
   "cell_type": "markdown",
   "metadata": {},
   "source": [
    "We can see, than there are no duplicates in validation dataset. Visuzlize some data"
   ]
  },
  {
   "cell_type": "code",
   "execution_count": 30,
   "metadata": {},
   "outputs": [
    {
     "data": {
      "image/png": "[encoded data removed]",
      "text/plain": [
       "<Figure size 360x360 with 4 Axes>"
      ]
     },
     "metadata": {},
     "output_type": "display_data"
    }
   ],
   "source": [
    "plt.figure(figsize=(5,5))\n",
    "for ind, cl in enumerate(df_labels['labels']):\n",
    "    path = df_val[df_val['labels'] == cl].iloc[0]['filepaths']\n",
    "    im_path = './data/' + path\n",
    "    img = Image.open(im_path)\n",
    "    plt.subplot(1, 4, ind+1)\n",
    "    plt.xticks([])\n",
    "    plt.yticks([])\n",
    "    plt.title(cl)\n",
    "    plt.imshow(img)\n",
    "    "
   ]
  },
  {
   "attachments": {},
   "cell_type": "markdown",
   "metadata": {},
   "source": [
    "Let's use the following models:\n",
    "\n",
    "* convolutional neural network from scratch\n",
    "* transfer learning (Xception as base model)\n"
   ]
  },
  {
   "cell_type": "code",
   "execution_count": 31,
   "metadata": {},
   "outputs": [],
   "source": [
    "import tensorflow as tf\n",
    "from tensorflow import keras\n",
    "from tensorflow.keras import layers, models\n",
    "from tensorflow.keras.preprocessing.image import load_img\n",
    "from tensorflow.keras.preprocessing.image import ImageDataGenerator"
   ]
  },
  {
   "cell_type": "code",
   "execution_count": 32,
   "metadata": {},
   "outputs": [],
   "source": [
    "input_shape=(150, 150, 3)\n",
    "\n",
    "model = models.Sequential()\n",
    "model.add(layers.Conv2D(32, (3, 3), activation='relu', input_shape=input_shape))\n",
    "model.add(layers.MaxPooling2D((2, 2)))\n",
    "model.add(layers.Conv2D(64, (3, 3), activation='relu'))\n",
    "model.add(layers.MaxPooling2D((2, 2)))\n",
    "model.add(layers.Flatten())\n",
    "model.add(layers.Dense(64, activation='relu'))\n",
    "model.add(layers.Dense(4, activation='softmax'))"
   ]
  },
  {
   "cell_type": "code",
   "execution_count": 33,
   "metadata": {},
   "outputs": [
    {
     "name": "stdout",
     "output_type": "stream",
     "text": [
      "Model: \"sequential\"\n",
      "_________________________________________________________________\n",
      " Layer (type)                Output Shape              Param #   \n",
      "=================================================================\n",
      " conv2d (Conv2D)             (None, 148, 148, 32)      896       \n",
      "                                                                 \n",
      " max_pooling2d (MaxPooling2D  (None, 74, 74, 32)       0         \n",
      " )                                                               \n",
      "                                                                 \n",
      " conv2d_1 (Conv2D)           (None, 72, 72, 64)        18496     \n",
      "                                                                 \n",
      " max_pooling2d_1 (MaxPooling  (None, 36, 36, 64)       0         \n",
      " 2D)                                                             \n",
      "                                                                 \n",
      " flatten (Flatten)           (None, 82944)             0         \n",
      "                                                                 \n",
      " dense (Dense)               (None, 64)                5308480   \n",
      "                                                                 \n",
      " dense_1 (Dense)             (None, 4)                 260       \n",
      "                                                                 \n",
      "=================================================================\n",
      "Total params: 5,328,132\n",
      "Trainable params: 5,328,132\n",
      "Non-trainable params: 0\n",
      "_________________________________________________________________\n"
     ]
    }
   ],
   "source": [
    "model.summary()"
   ]
  },
  {
   "cell_type": "code",
   "execution_count": 34,
   "metadata": {},
   "outputs": [],
   "source": [
    "learning_rate = 0.001\n",
    "optimizer = keras.optimizers.RMSprop(learning_rate=learning_rate)\n",
    "loss = keras.losses.CategoricalCrossentropy()"
   ]
  },
  {
   "cell_type": "code",
   "execution_count": 35,
   "metadata": {},
   "outputs": [],
   "source": [
    "train_gen = ImageDataGenerator(rescale=1./255)"
   ]
  },
  {
   "attachments": {},
   "cell_type": "markdown",
   "metadata": {},
   "source": [
    "Prepare train and validation data for model fitting"
   ]
  },
  {
   "cell_type": "code",
   "execution_count": 36,
   "metadata": {},
   "outputs": [
    {
     "name": "stdout",
     "output_type": "stream",
     "text": [
      "Found 956 validated image filenames belonging to 4 classes.\n"
     ]
    }
   ],
   "source": [
    "train_ds = train_gen.flow_from_dataframe(\n",
    "    dataframe=df_train,\n",
    "    directory=\"./data/\",\n",
    "    x_col=\"filepaths\",\n",
    "    y_col=\"labels\",\n",
    "    batch_size=32,\n",
    "    shuffle=True,\n",
    "    class_mode=\"categorical\",\n",
    "    target_size=(150, 150))"
   ]
  },
  {
   "cell_type": "code",
   "execution_count": 37,
   "metadata": {},
   "outputs": [
    {
     "name": "stdout",
     "output_type": "stream",
     "text": [
      "Found 240 validated image filenames belonging to 4 classes.\n"
     ]
    }
   ],
   "source": [
    "val_ds = train_gen.flow_from_dataframe(\n",
    "    dataframe=df_val,\n",
    "    directory=\"./data/\",\n",
    "    x_col=\"filepaths\",\n",
    "    y_col=\"labels\",\n",
    "    batch_size=32,\n",
    "    shuffle=False,\n",
    "    class_mode=\"categorical\",\n",
    "    target_size=(150, 150))"
   ]
  },
  {
   "cell_type": "code",
   "execution_count": 38,
   "metadata": {},
   "outputs": [],
   "source": [
    "model.compile(optimizer=optimizer,\n",
    "              loss=loss,\n",
    "              metrics=['accuracy'])"
   ]
  },
  {
   "cell_type": "code",
   "execution_count": 39,
   "metadata": {},
   "outputs": [],
   "source": [
    "checkpoint = keras.callbacks.ModelCheckpoint('model_version_{epoch:03d}_{val_accuracy:.3f}.h5',\n",
    "                                            monitor='val_accuracy',\n",
    "                                            mode='max',\n",
    "                                            save_best_only=True, \n",
    "                                            )"
   ]
  },
  {
   "cell_type": "code",
   "execution_count": 40,
   "metadata": {},
   "outputs": [
    {
     "name": "stdout",
     "output_type": "stream",
     "text": [
      "Epoch 1/10\n",
      "30/30 [==============================] - 25s 761ms/step - loss: 1.7516 - accuracy: 0.4603 - val_loss: 0.4396 - val_accuracy: 0.9208\n",
      "Epoch 2/10\n",
      "30/30 [==============================] - 21s 698ms/step - loss: 0.5321 - accuracy: 0.8086 - val_loss: 0.4714 - val_accuracy: 0.7750\n",
      "Epoch 3/10\n",
      "30/30 [==============================] - 21s 698ms/step - loss: 0.4028 - accuracy: 0.8577 - val_loss: 0.2239 - val_accuracy: 0.9542\n",
      "Epoch 4/10\n",
      "30/30 [==============================] - 21s 700ms/step - loss: 0.1998 - accuracy: 0.9383 - val_loss: 0.1113 - val_accuracy: 0.9625\n",
      "Epoch 5/10\n",
      "30/30 [==============================] - 21s 696ms/step - loss: 0.3643 - accuracy: 0.9226 - val_loss: 0.5030 - val_accuracy: 0.8000\n",
      "Epoch 6/10\n",
      "30/30 [==============================] - 21s 692ms/step - loss: 0.1728 - accuracy: 0.9425 - val_loss: 0.0858 - val_accuracy: 0.9833\n",
      "Epoch 7/10\n",
      "30/30 [==============================] - 21s 693ms/step - loss: 0.2124 - accuracy: 0.9320 - val_loss: 0.0590 - val_accuracy: 0.9917\n",
      "Epoch 8/10\n",
      "30/30 [==============================] - 24s 809ms/step - loss: 0.0869 - accuracy: 0.9780 - val_loss: 0.0580 - val_accuracy: 0.9833\n",
      "Epoch 9/10\n",
      "30/30 [==============================] - 21s 704ms/step - loss: 0.1190 - accuracy: 0.9623 - val_loss: 0.0835 - val_accuracy: 0.9583\n",
      "Epoch 10/10\n",
      "30/30 [==============================] - 21s 697ms/step - loss: 0.0161 - accuracy: 0.9990 - val_loss: 0.0471 - val_accuracy: 0.9792\n"
     ]
    }
   ],
   "source": [
    "history = model.fit(train_ds, \n",
    "                    epochs=10, \n",
    "                    validation_data=val_ds,\n",
    "                    callbacks=[checkpoint]\n",
    "                )"
   ]
  },
  {
   "attachments": {},
   "cell_type": "markdown",
   "metadata": {},
   "source": [
    "The last epoch has the highest accuracy, so let's use fimal model"
   ]
  },
  {
   "cell_type": "code",
   "execution_count": 41,
   "metadata": {},
   "outputs": [
    {
     "name": "stdout",
     "output_type": "stream",
     "text": [
      "Found 400 validated image filenames belonging to 4 classes.\n"
     ]
    }
   ],
   "source": [
    "test_ds = train_gen.flow_from_dataframe(\n",
    "    dataframe=df_test,\n",
    "    directory=\"./data/\",\n",
    "    x_col=\"filepaths\",\n",
    "    y_col=\"labels\",\n",
    "    batch_size=32,\n",
    "    shuffle=False,\n",
    "    class_mode=\"categorical\",\n",
    "    target_size=(150, 150))"
   ]
  },
  {
   "cell_type": "code",
   "execution_count": 42,
   "metadata": {},
   "outputs": [
    {
     "name": "stdout",
     "output_type": "stream",
     "text": [
      "13/13 [==============================] - 4s 287ms/step - loss: 0.0182 - accuracy: 0.9975\n"
     ]
    }
   ],
   "source": [
    "test_loss, test_acc = model.evaluate(test_ds)"
   ]
  },
  {
   "cell_type": "code",
   "execution_count": 44,
   "metadata": {},
   "outputs": [],
   "source": [
    "model.save_weights('final1.h5')"
   ]
  },
  {
   "cell_type": "code",
   "execution_count": 43,
   "metadata": {},
   "outputs": [
    {
     "data": {
      "text/plain": [
       "0.9975000023841858"
      ]
     },
     "execution_count": 43,
     "metadata": {},
     "output_type": "execute_result"
    }
   ],
   "source": [
    "test_acc"
   ]
  },
  {
   "cell_type": "code",
   "execution_count": 46,
   "metadata": {},
   "outputs": [
    {
     "name": "stdout",
     "output_type": "stream",
     "text": [
      "1/1 [==============================] - 0s 203ms/step\n"
     ]
    }
   ],
   "source": [
    "im_path_test = './data/test/Light/light (7).png'\n",
    "img = load_img(im_path_test, target_size=(150,150))\n",
    "img = np.array(img, dtype='float')/255 \n",
    "X = np.array([img])\n",
    "pred = model.predict(X)"
   ]
  },
  {
   "cell_type": "code",
   "execution_count": 47,
   "metadata": {},
   "outputs": [
    {
     "data": {
      "text/plain": [
       "[('Dark', 2.2270352e-13),\n",
       " ('Green', 6.7323876e-05),\n",
       " ('Light', 0.9999232),\n",
       " ('Medium', 9.466292e-06)]"
      ]
     },
     "execution_count": 47,
     "metadata": {},
     "output_type": "execute_result"
    }
   ],
   "source": [
    "labels = list(train_ds.class_indices.keys())\n",
    "prediction = list(zip(labels, list(pred[0])))\n",
    "prediction"
   ]
  },
  {
   "cell_type": "code",
   "execution_count": 48,
   "metadata": {},
   "outputs": [
    {
     "data": {
      "text/plain": [
       "<matplotlib.legend.Legend at 0x146814d3f70>"
      ]
     },
     "execution_count": 48,
     "metadata": {},
     "output_type": "execute_result"
    },
    {
     "data": {
      "image/png": "[encoded data removed]",
      "text/plain": [
       "<Figure size 432x288 with 1 Axes>"
      ]
     },
     "metadata": {
      "needs_background": "light"
     },
     "output_type": "display_data"
    }
   ],
   "source": [
    "plt.plot(history.history['val_accuracy'], label='epoch')\n",
    "\n",
    "plt.xticks(np.arange(10))\n",
    "plt.legend()"
   ]
  },
  {
   "cell_type": "code",
   "execution_count": 54,
   "metadata": {},
   "outputs": [],
   "source": [
    "model.load_weights('final1.h5')"
   ]
  },
  {
   "cell_type": "code",
   "execution_count": 55,
   "metadata": {},
   "outputs": [
    {
     "name": "stdout",
     "output_type": "stream",
     "text": [
      "13/13 [==============================] - 4s 277ms/step - loss: 0.0182 - accuracy: 0.9975\n"
     ]
    }
   ],
   "source": [
    "test_loss, test_acc = model.evaluate(test_ds)"
   ]
  },
  {
   "attachments": {},
   "cell_type": "markdown",
   "metadata": {},
   "source": [
    "The model gives good results. Let's try to tune learning rate parameter"
   ]
  },
  {
   "cell_type": "code",
   "execution_count": 51,
   "metadata": {},
   "outputs": [],
   "source": [
    "def make_model(learning_rate=0.001, input_shape=(150, 150, 3)):\n",
    "    # Model ########################################################################\n",
    "    model = models.Sequential()\n",
    "    model.add(layers.Conv2D(32, (3, 3), activation='relu', input_shape=input_shape))\n",
    "    model.add(layers.MaxPooling2D((2, 2)))\n",
    "    model.add(layers.Conv2D(64, (3, 3), activation='relu'))\n",
    "    model.add(layers.MaxPooling2D((2, 2)))\n",
    "    model.add(layers.Flatten())\n",
    "    model.add(layers.Dense(64, activation='relu'))\n",
    "    model.add(layers.Dense(4, activation='softmax'))\n",
    "\n",
    "    # Optimizer and loss ###########################################################\n",
    "    optimizer = keras.optimizers.RMSprop(learning_rate=learning_rate)\n",
    "    loss = keras.losses.CategoricalCrossentropy()\n",
    "\n",
    "    # Compilation ##################################################################\n",
    "    model.compile(optimizer=optimizer,\n",
    "              loss=loss,\n",
    "              metrics=['accuracy'])\n",
    "\n",
    "    return model"
   ]
  },
  {
   "cell_type": "code",
   "execution_count": 52,
   "metadata": {},
   "outputs": [
    {
     "name": "stdout",
     "output_type": "stream",
     "text": [
      "Epoch 1/10\n",
      "30/30 [==============================] - 23s 734ms/step - loss: 198779.8594 - accuracy: 0.3462 - val_loss: 1.4209 - val_accuracy: 0.4875\n",
      "Epoch 2/10\n",
      "30/30 [==============================] - 21s 715ms/step - loss: 1.3231 - accuracy: 0.5387 - val_loss: 0.8996 - val_accuracy: 0.6125\n",
      "Epoch 3/10\n",
      "30/30 [==============================] - 20s 673ms/step - loss: 0.8039 - accuracy: 0.6579 - val_loss: 0.8080 - val_accuracy: 0.6333\n",
      "Epoch 4/10\n",
      "30/30 [==============================] - 20s 668ms/step - loss: 22.6298 - accuracy: 0.5293 - val_loss: 1.7119 - val_accuracy: 0.2500\n",
      "Epoch 5/10\n",
      "30/30 [==============================] - 20s 659ms/step - loss: 1.4287 - accuracy: 0.2573 - val_loss: 1.4000 - val_accuracy: 0.2417\n",
      "Epoch 6/10\n",
      "30/30 [==============================] - 20s 667ms/step - loss: 1.4055 - accuracy: 0.2563 - val_loss: 1.3875 - val_accuracy: 0.2500\n",
      "Epoch 7/10\n",
      "30/30 [==============================] - 21s 712ms/step - loss: 1.4010 - accuracy: 0.2646 - val_loss: 1.3915 - val_accuracy: 0.2583\n",
      "Epoch 8/10\n",
      "30/30 [==============================] - 21s 688ms/step - loss: 1.3958 - accuracy: 0.2573 - val_loss: 1.3960 - val_accuracy: 0.2500\n",
      "Epoch 9/10\n",
      "30/30 [==============================] - 26s 862ms/step - loss: 1.3972 - accuracy: 0.2510 - val_loss: 1.4040 - val_accuracy: 0.2417\n",
      "Epoch 10/10\n",
      "30/30 [==============================] - 36s 1s/step - loss: 1.3957 - accuracy: 0.2354 - val_loss: 1.3876 - val_accuracy: 0.2500\n",
      "Epoch 1/10\n",
      "30/30 [==============================] - 36s 1s/step - loss: 70.6614 - accuracy: 0.3096 - val_loss: 1.3655 - val_accuracy: 0.3417\n",
      "Epoch 2/10\n",
      "30/30 [==============================] - 25s 843ms/step - loss: 2.8654 - accuracy: 0.4100 - val_loss: 1.1528 - val_accuracy: 0.5792\n",
      "Epoch 3/10\n",
      "30/30 [==============================] - 22s 719ms/step - loss: 2.8874 - accuracy: 0.5732 - val_loss: 0.9904 - val_accuracy: 0.6417\n",
      "Epoch 4/10\n",
      "30/30 [==============================] - 21s 696ms/step - loss: 0.8942 - accuracy: 0.6632 - val_loss: 0.8975 - val_accuracy: 0.6708\n",
      "Epoch 5/10\n",
      "30/30 [==============================] - 21s 714ms/step - loss: 0.9009 - accuracy: 0.6172 - val_loss: 0.8011 - val_accuracy: 0.6792\n",
      "Epoch 6/10\n",
      "30/30 [==============================] - 22s 728ms/step - loss: 0.7963 - accuracy: 0.6579 - val_loss: 0.8033 - val_accuracy: 0.6417\n",
      "Epoch 7/10\n",
      "30/30 [==============================] - 21s 680ms/step - loss: 0.6420 - accuracy: 0.7123 - val_loss: 0.8037 - val_accuracy: 0.6250\n",
      "Epoch 8/10\n",
      "30/30 [==============================] - 20s 677ms/step - loss: 3.4763 - accuracy: 0.7385 - val_loss: 0.6199 - val_accuracy: 0.7458\n",
      "Epoch 9/10\n",
      "30/30 [==============================] - 20s 667ms/step - loss: 0.5266 - accuracy: 0.7960 - val_loss: 0.6533 - val_accuracy: 0.7250\n",
      "Epoch 10/10\n",
      "30/30 [==============================] - 20s 680ms/step - loss: 0.4709 - accuracy: 0.8096 - val_loss: 0.5908 - val_accuracy: 0.7458\n",
      "Epoch 1/10\n",
      "30/30 [==============================] - 23s 722ms/step - loss: 2.9709 - accuracy: 0.3421 - val_loss: 1.0194 - val_accuracy: 0.7625\n",
      "Epoch 2/10\n",
      "30/30 [==============================] - 21s 692ms/step - loss: 0.8913 - accuracy: 0.6224 - val_loss: 0.5956 - val_accuracy: 0.8292\n",
      "Epoch 3/10\n",
      "30/30 [==============================] - 21s 692ms/step - loss: 0.5879 - accuracy: 0.7751 - val_loss: 0.4394 - val_accuracy: 0.8167\n",
      "Epoch 4/10\n",
      "30/30 [==============================] - 21s 690ms/step - loss: 0.3138 - accuracy: 0.8870 - val_loss: 0.3883 - val_accuracy: 0.7958\n",
      "Epoch 5/10\n",
      "30/30 [==============================] - 21s 701ms/step - loss: 0.3362 - accuracy: 0.8766 - val_loss: 0.1488 - val_accuracy: 0.9708\n",
      "Epoch 6/10\n",
      "30/30 [==============================] - 21s 700ms/step - loss: 0.2701 - accuracy: 0.9132 - val_loss: 1.0279 - val_accuracy: 0.7208\n",
      "Epoch 7/10\n",
      "30/30 [==============================] - 21s 700ms/step - loss: 0.3206 - accuracy: 0.9174 - val_loss: 0.1204 - val_accuracy: 0.9708\n",
      "Epoch 8/10\n",
      "30/30 [==============================] - 20s 671ms/step - loss: 0.1372 - accuracy: 0.9644 - val_loss: 0.1738 - val_accuracy: 0.9333\n",
      "Epoch 9/10\n",
      "30/30 [==============================] - 21s 684ms/step - loss: 0.1037 - accuracy: 0.9707 - val_loss: 0.1058 - val_accuracy: 0.9542\n",
      "Epoch 10/10\n",
      "30/30 [==============================] - 21s 689ms/step - loss: 0.1760 - accuracy: 0.9446 - val_loss: 0.0801 - val_accuracy: 0.9667\n",
      "Epoch 1/10\n",
      "30/30 [==============================] - 23s 729ms/step - loss: 1.3905 - accuracy: 0.3190 - val_loss: 1.2345 - val_accuracy: 0.5333\n",
      "Epoch 2/10\n",
      "30/30 [==============================] - 21s 704ms/step - loss: 1.1799 - accuracy: 0.5094 - val_loss: 1.0943 - val_accuracy: 0.4958\n",
      "Epoch 3/10\n",
      "30/30 [==============================] - 21s 699ms/step - loss: 0.9526 - accuracy: 0.6527 - val_loss: 0.9356 - val_accuracy: 0.6708\n",
      "Epoch 4/10\n",
      "30/30 [==============================] - 21s 695ms/step - loss: 0.7822 - accuracy: 0.7301 - val_loss: 0.7090 - val_accuracy: 0.8042\n",
      "Epoch 5/10\n",
      "30/30 [==============================] - 21s 697ms/step - loss: 0.6929 - accuracy: 0.7636 - val_loss: 0.6578 - val_accuracy: 0.7417\n",
      "Epoch 6/10\n",
      "30/30 [==============================] - 21s 699ms/step - loss: 0.5747 - accuracy: 0.8389 - val_loss: 0.5784 - val_accuracy: 0.8458\n",
      "Epoch 7/10\n",
      "30/30 [==============================] - 21s 701ms/step - loss: 0.4780 - accuracy: 0.8713 - val_loss: 0.5429 - val_accuracy: 0.7708\n",
      "Epoch 8/10\n",
      "30/30 [==============================] - 21s 701ms/step - loss: 0.4114 - accuracy: 0.8902 - val_loss: 0.4293 - val_accuracy: 0.8750\n",
      "Epoch 9/10\n",
      "30/30 [==============================] - 21s 706ms/step - loss: 0.3501 - accuracy: 0.9038 - val_loss: 0.4213 - val_accuracy: 0.8500\n",
      "Epoch 10/10\n",
      "30/30 [==============================] - 21s 712ms/step - loss: 0.2916 - accuracy: 0.9215 - val_loss: 0.3124 - val_accuracy: 0.9167\n"
     ]
    }
   ],
   "source": [
    "learning_rates = [0.1, 0.01, 0.001, 0.0001]\n",
    "scores = {}\n",
    "for lr in learning_rates:\n",
    "    model = make_model(learning_rate=lr)\n",
    "    history = model.fit(train_ds, \n",
    "                    epochs=10, \n",
    "                    validation_data=val_ds,\n",
    "                )\n",
    "    scores[lr] = history.history\n"
   ]
  },
  {
   "cell_type": "code",
   "execution_count": 53,
   "metadata": {},
   "outputs": [
    {
     "data": {
      "text/plain": [
       "<matplotlib.legend.Legend at 0x1468242d2b0>"
      ]
     },
     "execution_count": 53,
     "metadata": {},
     "output_type": "execute_result"
    },
    {
     "data": {
      "image/png": "[encoded data removed]",
      "text/plain": [
       "<Figure size 432x288 with 1 Axes>"
      ]
     },
     "metadata": {
      "needs_background": "light"
     },
     "output_type": "display_data"
    }
   ],
   "source": [
    "for lr, hist in scores.items():\n",
    "    plt.plot(hist['val_accuracy'], label=lr)\n",
    "\n",
    "plt.xticks(np.arange(10))\n",
    "plt.legend()"
   ]
  },
  {
   "attachments": {},
   "cell_type": "markdown",
   "metadata": {},
   "source": [
    "According to graphics the best learning rate is 0.001 and we have already evaluated the model"
   ]
  },
  {
   "attachments": {},
   "cell_type": "markdown",
   "metadata": {},
   "source": [
    "Let's use Xception"
   ]
  },
  {
   "cell_type": "code",
   "execution_count": 56,
   "metadata": {},
   "outputs": [],
   "source": [
    "from tensorflow.keras.applications.xception import Xception\n",
    "from tensorflow.keras.applications.xception import preprocess_input"
   ]
  },
  {
   "cell_type": "code",
   "execution_count": 57,
   "metadata": {},
   "outputs": [],
   "source": [
    "base_model = Xception(weights='imagenet',\n",
    "                 include_top=False,\n",
    "                 input_shape=(150, 150, 3))\n",
    "base_model.trainable = False"
   ]
  },
  {
   "cell_type": "code",
   "execution_count": 58,
   "metadata": {},
   "outputs": [],
   "source": [
    "inputs = keras.Input(shape=(150, 150, 3))\n",
    "base = base_model(inputs)\n",
    "\n",
    "vectors = keras.layers.GlobalAveragePooling2D()(base)\n",
    "outputs = keras.layers.Dense(4, activation='softmax')(vectors)\n",
    "model_xc = keras.Model(inputs, outputs)"
   ]
  },
  {
   "cell_type": "code",
   "execution_count": 59,
   "metadata": {},
   "outputs": [],
   "source": [
    "checkpoint = keras.callbacks.ModelCheckpoint('model_xc_version_{epoch:03d}_{val_accuracy:.3f}.h5',\n",
    "                                            monitor='val_accuracy',\n",
    "                                            mode='max',\n",
    "                                            save_best_only=True, \n",
    "                                            )"
   ]
  },
  {
   "cell_type": "code",
   "execution_count": 60,
   "metadata": {},
   "outputs": [
    {
     "name": "stdout",
     "output_type": "stream",
     "text": [
      "Model: \"model\"\n",
      "_________________________________________________________________\n",
      " Layer (type)                Output Shape              Param #   \n",
      "=================================================================\n",
      " input_2 (InputLayer)        [(None, 150, 150, 3)]     0         \n",
      "                                                                 \n",
      " xception (Functional)       (None, 5, 5, 2048)        20861480  \n",
      "                                                                 \n",
      " global_average_pooling2d (G  (None, 2048)             0         \n",
      " lobalAveragePooling2D)                                          \n",
      "                                                                 \n",
      " dense_10 (Dense)            (None, 4)                 8196      \n",
      "                                                                 \n",
      "=================================================================\n",
      "Total params: 20,869,676\n",
      "Trainable params: 8,196\n",
      "Non-trainable params: 20,861,480\n",
      "_________________________________________________________________\n"
     ]
    }
   ],
   "source": [
    "model_xc.summary()"
   ]
  },
  {
   "cell_type": "code",
   "execution_count": 61,
   "metadata": {},
   "outputs": [],
   "source": [
    "learning_rate = 0.001\n",
    "optimizer = keras.optimizers.Adam(learning_rate=learning_rate)\n",
    "loss = keras.losses.CategoricalCrossentropy(from_logits=False)\n",
    "\n",
    "model_xc.compile(optimizer=optimizer, loss=loss, metrics=['accuracy'])"
   ]
  },
  {
   "cell_type": "code",
   "execution_count": 62,
   "metadata": {},
   "outputs": [
    {
     "name": "stdout",
     "output_type": "stream",
     "text": [
      "Found 956 validated image filenames belonging to 4 classes.\n",
      "Found 240 validated image filenames belonging to 4 classes.\n",
      "Found 400 validated image filenames belonging to 4 classes.\n"
     ]
    }
   ],
   "source": [
    "train_gen_xc = ImageDataGenerator(preprocessing_function=preprocess_input)\n",
    "train_ds_xc = train_gen_xc.flow_from_dataframe(\n",
    "    dataframe=df_train,\n",
    "    directory=\"./data/\",\n",
    "    x_col=\"filepaths\",\n",
    "    y_col=\"labels\",\n",
    "    batch_size=32,\n",
    "    shuffle=True,\n",
    "    class_mode=\"categorical\",\n",
    "    target_size=(150, 150))\n",
    "\n",
    "val_ds_xc = train_gen_xc.flow_from_dataframe(\n",
    "    dataframe=df_val,\n",
    "    directory=\"./data/\",\n",
    "    x_col=\"filepaths\",\n",
    "    y_col=\"labels\",\n",
    "    batch_size=32,\n",
    "    shuffle=False,\n",
    "    class_mode=\"categorical\",\n",
    "    target_size=(150, 150))\n",
    "\n",
    "teat_ds_xc = train_gen_xc.flow_from_dataframe(\n",
    "    dataframe=df_test,\n",
    "    directory=\"./data/\",\n",
    "    x_col=\"filepaths\",\n",
    "    y_col=\"labels\",\n",
    "    batch_size=32,\n",
    "    shuffle=False,\n",
    "    class_mode=\"categorical\",\n",
    "    target_size=(150, 150))"
   ]
  },
  {
   "cell_type": "code",
   "execution_count": 63,
   "metadata": {},
   "outputs": [
    {
     "name": "stdout",
     "output_type": "stream",
     "text": [
      "Epoch 1/10\n",
      "30/30 [==============================] - 111s 4s/step - loss: 0.9017 - accuracy: 0.6349 - val_loss: 0.5426 - val_accuracy: 0.8208\n",
      "Epoch 2/10\n",
      "30/30 [==============================] - 87s 3s/step - loss: 0.4197 - accuracy: 0.8536 - val_loss: 0.3805 - val_accuracy: 0.8875\n",
      "Epoch 3/10\n",
      "30/30 [==============================] - 60s 2s/step - loss: 0.3160 - accuracy: 0.9038 - val_loss: 0.3259 - val_accuracy: 0.8833\n",
      "Epoch 4/10\n",
      "30/30 [==============================] - 60s 2s/step - loss: 0.2535 - accuracy: 0.9320 - val_loss: 0.2899 - val_accuracy: 0.9000\n",
      "Epoch 5/10\n",
      "30/30 [==============================] - 61s 2s/step - loss: 0.2170 - accuracy: 0.9508 - val_loss: 0.2701 - val_accuracy: 0.9125\n",
      "Epoch 6/10\n",
      "30/30 [==============================] - 60s 2s/step - loss: 0.1851 - accuracy: 0.9623 - val_loss: 0.2568 - val_accuracy: 0.9125\n",
      "Epoch 7/10\n",
      "30/30 [==============================] - 61s 2s/step - loss: 0.1652 - accuracy: 0.9665 - val_loss: 0.2533 - val_accuracy: 0.9208\n",
      "Epoch 8/10\n",
      "30/30 [==============================] - 60s 2s/step - loss: 0.1464 - accuracy: 0.9718 - val_loss: 0.2319 - val_accuracy: 0.9167\n",
      "Epoch 9/10\n",
      "30/30 [==============================] - 61s 2s/step - loss: 0.1310 - accuracy: 0.9770 - val_loss: 0.2306 - val_accuracy: 0.9208\n",
      "Epoch 10/10\n",
      "30/30 [==============================] - 60s 2s/step - loss: 0.1195 - accuracy: 0.9833 - val_loss: 0.2345 - val_accuracy: 0.9125\n"
     ]
    }
   ],
   "source": [
    "history_xc = model_xc.fit(train_ds_xc, \n",
    "                    epochs=10, \n",
    "                    validation_data=val_ds_xc,\n",
    "                    callbacks=[checkpoint])"
   ]
  },
  {
   "cell_type": "code",
   "execution_count": 64,
   "metadata": {},
   "outputs": [
    {
     "data": {
      "text/plain": [
       "<matplotlib.legend.Legend at 0x146861d7610>"
      ]
     },
     "execution_count": 64,
     "metadata": {},
     "output_type": "execute_result"
    },
    {
     "data": {
      "image/png": "[encoded data removed]",
      "text/plain": [
       "<Figure size 432x288 with 1 Axes>"
      ]
     },
     "metadata": {
      "needs_background": "light"
     },
     "output_type": "display_data"
    }
   ],
   "source": [
    "plt.plot(history_xc.history['val_accuracy'], label='epoch')\n",
    "\n",
    "plt.xticks(np.arange(10))\n",
    "plt.legend()"
   ]
  },
  {
   "cell_type": "code",
   "execution_count": 65,
   "metadata": {},
   "outputs": [],
   "source": [
    "model_xc.save_weights('final_xc.h5')"
   ]
  },
  {
   "cell_type": "code",
   "execution_count": 67,
   "metadata": {},
   "outputs": [],
   "source": [
    "model_xc.load_weights('model_xc_version_007_0.921.h5')"
   ]
  },
  {
   "cell_type": "code",
   "execution_count": 68,
   "metadata": {},
   "outputs": [
    {
     "name": "stdout",
     "output_type": "stream",
     "text": [
      "13/13 [==============================] - 21s 2s/step - loss: 0.2008 - accuracy: 0.9400\n"
     ]
    },
    {
     "data": {
      "text/plain": [
       "0.9399999976158142"
      ]
     },
     "execution_count": 68,
     "metadata": {},
     "output_type": "execute_result"
    }
   ],
   "source": [
    "test_loss, test_acc = model_xc.evaluate(test_ds)\n",
    "test_acc"
   ]
  },
  {
   "cell_type": "code",
   "execution_count": 69,
   "metadata": {},
   "outputs": [
    {
     "name": "stdout",
     "output_type": "stream",
     "text": [
      "1/1 [==============================] - 2s 2s/step\n"
     ]
    },
    {
     "data": {
      "text/plain": [
       "[('Dark', 2.2270352e-13),\n",
       " ('Green', 6.7323876e-05),\n",
       " ('Light', 0.9999232),\n",
       " ('Medium', 9.466292e-06)]"
      ]
     },
     "execution_count": 69,
     "metadata": {},
     "output_type": "execute_result"
    }
   ],
   "source": [
    "pred_xc = model_xc.predict(X)\n",
    "prediction = list(zip(labels, list(pred[0])))\n",
    "prediction"
   ]
  },
  {
   "attachments": {},
   "cell_type": "markdown",
   "metadata": {},
   "source": [
    "This model gives a little bit worse result, but still good"
   ]
  },
  {
   "cell_type": "markdown",
   "metadata": {},
   "source": [
    "Let tune learning_rate parameter"
   ]
  },
  {
   "cell_type": "code",
   "execution_count": 70,
   "metadata": {},
   "outputs": [],
   "source": [
    "def make_model_xc(learning_rate=0.001, input_shape=(150, 150, 3)):\n",
    "    # Model ########################################################################\n",
    "    base_model = Xception(weights='imagenet',\n",
    "                 include_top=False,\n",
    "                 input_shape=(150, 150, 3))\n",
    "    base_model.trainable = False\n",
    "    inputs = keras.Input(shape=(150, 150, 3))\n",
    "    base = base_model(inputs)\n",
    "\n",
    "    vectors = keras.layers.GlobalAveragePooling2D()(base)\n",
    "    outputs = keras.layers.Dense(4, activation='softmax')(vectors)\n",
    "    model = keras.Model(inputs, outputs)\n",
    "\n",
    "\n",
    "    # Optimizer and loss ###########################################################\n",
    "    optimizer = keras.optimizers.Adam(learning_rate=learning_rate)\n",
    "    loss = keras.losses.CategoricalCrossentropy()\n",
    "\n",
    "    # Compilation ##################################################################\n",
    "    model.compile(optimizer=optimizer,\n",
    "              loss=loss,\n",
    "              metrics=['accuracy'])\n",
    "\n",
    "    return model"
   ]
  },
  {
   "cell_type": "code",
   "execution_count": 74,
   "metadata": {},
   "outputs": [
    {
     "name": "stdout",
     "output_type": "stream",
     "text": [
      "Epoch 1/10\n",
      "30/30 [==============================] - 64s 2s/step - loss: 0.8758 - accuracy: 0.6433 - val_loss: 0.5465 - val_accuracy: 0.8208\n",
      "Epoch 2/10\n",
      "30/30 [==============================] - 62s 2s/step - loss: 0.4223 - accuracy: 0.8567 - val_loss: 0.4171 - val_accuracy: 0.8750\n",
      "Epoch 3/10\n",
      "30/30 [==============================] - 62s 2s/step - loss: 0.3139 - accuracy: 0.9059 - val_loss: 0.3363 - val_accuracy: 0.8833\n",
      "Epoch 4/10\n",
      "30/30 [==============================] - 60s 2s/step - loss: 0.2574 - accuracy: 0.9331 - val_loss: 0.3046 - val_accuracy: 0.8875\n",
      "Epoch 5/10\n",
      "30/30 [==============================] - 60s 2s/step - loss: 0.2138 - accuracy: 0.9414 - val_loss: 0.2906 - val_accuracy: 0.9000\n",
      "Epoch 6/10\n",
      "30/30 [==============================] - 60s 2s/step - loss: 0.1856 - accuracy: 0.9582 - val_loss: 0.2682 - val_accuracy: 0.9125\n",
      "Epoch 7/10\n",
      "30/30 [==============================] - 60s 2s/step - loss: 0.1666 - accuracy: 0.9592 - val_loss: 0.2574 - val_accuracy: 0.9125\n",
      "Epoch 8/10\n",
      "30/30 [==============================] - 61s 2s/step - loss: 0.1515 - accuracy: 0.9676 - val_loss: 0.2480 - val_accuracy: 0.9167\n",
      "Epoch 9/10\n",
      "30/30 [==============================] - 60s 2s/step - loss: 0.1376 - accuracy: 0.9718 - val_loss: 0.2400 - val_accuracy: 0.9167\n",
      "Epoch 10/10\n",
      "30/30 [==============================] - 63s 2s/step - loss: 0.1230 - accuracy: 0.9749 - val_loss: 0.2353 - val_accuracy: 0.9125\n",
      "Epoch 1/10\n",
      "30/30 [==============================] - 64s 2s/step - loss: 0.8730 - accuracy: 0.6559 - val_loss: 0.4866 - val_accuracy: 0.8500\n",
      "Epoch 2/10\n",
      "30/30 [==============================] - 60s 2s/step - loss: 0.4244 - accuracy: 0.8473 - val_loss: 0.3577 - val_accuracy: 0.8833\n",
      "Epoch 3/10\n",
      "30/30 [==============================] - 57s 2s/step - loss: 0.3164 - accuracy: 0.9048 - val_loss: 0.3198 - val_accuracy: 0.9208\n",
      "Epoch 4/10\n",
      "30/30 [==============================] - 57s 2s/step - loss: 0.2640 - accuracy: 0.9100 - val_loss: 0.2882 - val_accuracy: 0.9042\n",
      "Epoch 5/10\n",
      "30/30 [==============================] - 57s 2s/step - loss: 0.2125 - accuracy: 0.9446 - val_loss: 0.2626 - val_accuracy: 0.9083\n",
      "Epoch 6/10\n",
      "30/30 [==============================] - 57s 2s/step - loss: 0.1842 - accuracy: 0.9561 - val_loss: 0.2630 - val_accuracy: 0.9000\n",
      "Epoch 7/10\n",
      "30/30 [==============================] - 58s 2s/step - loss: 0.1658 - accuracy: 0.9613 - val_loss: 0.2481 - val_accuracy: 0.9125\n",
      "Epoch 8/10\n",
      "30/30 [==============================] - 57s 2s/step - loss: 0.1490 - accuracy: 0.9603 - val_loss: 0.2371 - val_accuracy: 0.9208\n",
      "Epoch 9/10\n",
      "30/30 [==============================] - 57s 2s/step - loss: 0.1322 - accuracy: 0.9770 - val_loss: 0.2393 - val_accuracy: 0.9000\n",
      "Epoch 10/10\n",
      "30/30 [==============================] - 62s 2s/step - loss: 0.1198 - accuracy: 0.9791 - val_loss: 0.2259 - val_accuracy: 0.9208\n",
      "Epoch 1/10\n",
      "30/30 [==============================] - 72s 2s/step - loss: 0.8184 - accuracy: 0.6841 - val_loss: 0.5345 - val_accuracy: 0.8000\n",
      "Epoch 2/10\n",
      "30/30 [==============================] - 60s 2s/step - loss: 0.4081 - accuracy: 0.8640 - val_loss: 0.3596 - val_accuracy: 0.8792\n",
      "Epoch 3/10\n",
      "30/30 [==============================] - 60s 2s/step - loss: 0.3097 - accuracy: 0.9027 - val_loss: 0.3114 - val_accuracy: 0.8833\n",
      "Epoch 4/10\n",
      "30/30 [==============================] - 61s 2s/step - loss: 0.2492 - accuracy: 0.9257 - val_loss: 0.3080 - val_accuracy: 0.8833\n",
      "Epoch 5/10\n",
      "30/30 [==============================] - 61s 2s/step - loss: 0.2146 - accuracy: 0.9425 - val_loss: 0.2770 - val_accuracy: 0.8958\n",
      "Epoch 6/10\n",
      "30/30 [==============================] - 61s 2s/step - loss: 0.1808 - accuracy: 0.9550 - val_loss: 0.2445 - val_accuracy: 0.9167\n",
      "Epoch 7/10\n",
      "30/30 [==============================] - 61s 2s/step - loss: 0.1597 - accuracy: 0.9665 - val_loss: 0.2524 - val_accuracy: 0.8917\n",
      "Epoch 8/10\n",
      "30/30 [==============================] - 61s 2s/step - loss: 0.1487 - accuracy: 0.9686 - val_loss: 0.2290 - val_accuracy: 0.9208\n",
      "Epoch 9/10\n",
      "30/30 [==============================] - 61s 2s/step - loss: 0.1327 - accuracy: 0.9738 - val_loss: 0.2262 - val_accuracy: 0.9208\n",
      "Epoch 10/10\n",
      "30/30 [==============================] - 61s 2s/step - loss: 0.1192 - accuracy: 0.9812 - val_loss: 0.2244 - val_accuracy: 0.9167\n",
      "Epoch 1/10\n",
      "30/30 [==============================] - 62s 2s/step - loss: 0.8509 - accuracy: 0.6684 - val_loss: 0.5811 - val_accuracy: 0.7750\n",
      "Epoch 2/10\n",
      "30/30 [==============================] - 58s 2s/step - loss: 0.4128 - accuracy: 0.8713 - val_loss: 0.3840 - val_accuracy: 0.8625\n",
      "Epoch 3/10\n",
      "30/30 [==============================] - 58s 2s/step - loss: 0.3019 - accuracy: 0.9195 - val_loss: 0.3446 - val_accuracy: 0.9042\n",
      "Epoch 4/10\n",
      "30/30 [==============================] - 58s 2s/step - loss: 0.2510 - accuracy: 0.9268 - val_loss: 0.3144 - val_accuracy: 0.8667\n",
      "Epoch 5/10\n",
      "30/30 [==============================] - 58s 2s/step - loss: 0.2118 - accuracy: 0.9529 - val_loss: 0.2765 - val_accuracy: 0.8958\n",
      "Epoch 6/10\n",
      "30/30 [==============================] - 58s 2s/step - loss: 0.1827 - accuracy: 0.9550 - val_loss: 0.2639 - val_accuracy: 0.9125\n",
      "Epoch 7/10\n",
      "30/30 [==============================] - 58s 2s/step - loss: 0.1628 - accuracy: 0.9655 - val_loss: 0.2545 - val_accuracy: 0.9000\n",
      "Epoch 8/10\n",
      "30/30 [==============================] - 58s 2s/step - loss: 0.1438 - accuracy: 0.9697 - val_loss: 0.2491 - val_accuracy: 0.9042\n",
      "Epoch 9/10\n",
      "30/30 [==============================] - 62s 2s/step - loss: 0.1308 - accuracy: 0.9780 - val_loss: 0.2441 - val_accuracy: 0.9208\n",
      "Epoch 10/10\n",
      "30/30 [==============================] - 61s 2s/step - loss: 0.1172 - accuracy: 0.9801 - val_loss: 0.2403 - val_accuracy: 0.9083\n"
     ]
    }
   ],
   "source": [
    "learning_rates = [0.1, 0.01, 0.001, 0.0001]\n",
    "scores_xc = {}\n",
    "for lr in learning_rates:\n",
    "    model = make_model_xc(learning_rate=learning_rate)\n",
    "    history = model.fit(train_ds_xc, \n",
    "                    epochs=10, \n",
    "                    validation_data=val_ds_xc,\n",
    "                )\n",
    "    scores_xc[lr] = history.history\n"
   ]
  },
  {
   "cell_type": "code",
   "execution_count": 75,
   "metadata": {},
   "outputs": [
    {
     "data": {
      "text/plain": [
       "<matplotlib.legend.Legend at 0x14686563040>"
      ]
     },
     "execution_count": 75,
     "metadata": {},
     "output_type": "execute_result"
    },
    {
     "data": {
      "image/png": "[encoded data removed]",
      "text/plain": [
       "<Figure size 432x288 with 1 Axes>"
      ]
     },
     "metadata": {
      "needs_background": "light"
     },
     "output_type": "display_data"
    }
   ],
   "source": [
    "for lr, hist in scores_xc.items():\n",
    "    plt.plot(hist['val_accuracy'], label=lr)\n",
    "\n",
    "plt.xticks(np.arange(10))\n",
    "plt.legend()"
   ]
  },
  {
   "cell_type": "code",
   "execution_count": 77,
   "metadata": {},
   "outputs": [
    {
     "data": {
      "text/plain": [
       "<matplotlib.legend.Legend at 0x1469771bfa0>"
      ]
     },
     "execution_count": 77,
     "metadata": {},
     "output_type": "execute_result"
    },
    {
     "data": {
      "image/png": "[encoded data removed]",
      "text/plain": [
       "<Figure size 432x288 with 1 Axes>"
      ]
     },
     "metadata": {
      "needs_background": "light"
     },
     "output_type": "display_data"
    }
   ],
   "source": [
    "for lr, hist in scores_xc.items():\n",
    "    plt.plot(hist['accuracy'], label=lr)\n",
    "\n",
    "plt.xticks(np.arange(10))\n",
    "plt.ylim([0.9, 1])\n",
    "plt.legend()"
   ]
  },
  {
   "attachments": {},
   "cell_type": "markdown",
   "metadata": {},
   "source": [
    "As we can see that, when learning rate equals 0.001 the model has good performance. Let's keep it."
   ]
  },
  {
   "attachments": {},
   "cell_type": "markdown",
   "metadata": {},
   "source": [
    "# Conclusions\n",
    "\n",
    "* The model from scratch has better performance, then model built on Xception\n",
    "* The best learning rate parameter is 0.001\n",
    "\n",
    "\n",
    "That is why we will keep the first model\n",
    "\n",
    "Further investigation:\n",
    "\n",
    "* Add dropout layers\n",
    "* Concider different optimizers\n",
    "* Change architecture of neural network"
   ]
  },
  {
   "attachments": {},
   "cell_type": "markdown",
   "metadata": {},
   "source": [
    "After all this work was done, it was noticed that test data contains a lot of train, so let's delete duplicates and test model on unseen data"
   ]
  },
  {
   "cell_type": "code",
   "execution_count": 83,
   "metadata": {},
   "outputs": [],
   "source": [
    "phashes = []\n",
    "for path in df.filepaths:\n",
    "    im_path = './data/' + path\n",
    "    phashes.append(calculate_phashes(im_path))"
   ]
  },
  {
   "cell_type": "code",
   "execution_count": 80,
   "metadata": {},
   "outputs": [
    {
     "data": {
      "text/plain": [
       "406"
      ]
     },
     "execution_count": 80,
     "metadata": {},
     "output_type": "execute_result"
    }
   ],
   "source": [
    "df_dupl = df.copy()\n",
    "df_dupl['phashes'] = phashes\n",
    "duplicates_all = pd.DataFrame(df_dupl.duplicated(subset=['phashes']) )\n",
    "len(duplicates_all[duplicates_all[0] == True])"
   ]
  },
  {
   "cell_type": "code",
   "execution_count": 81,
   "metadata": {},
   "outputs": [
    {
     "data": {
      "text/plain": [
       "0"
      ]
     },
     "execution_count": 81,
     "metadata": {},
     "output_type": "execute_result"
    }
   ],
   "source": [
    "df_dupl = df_dupl.drop_duplicates(subset=['phashes'], keep='first')\n",
    "df_test_without_dupl = df_dupl[df_dupl.data_set == 'test']\n",
    "len(df_test_without_dupl)"
   ]
  },
  {
   "attachments": {},
   "cell_type": "markdown",
   "metadata": {},
   "source": [
    "Oops, all test data is taken from train data. Unfortunately.\n",
    "For the final model let's train model with additional 10 epochs on data received after augmentation"
   ]
  },
  {
   "cell_type": "code",
   "execution_count": 85,
   "metadata": {},
   "outputs": [],
   "source": [
    "final_model = make_model()\n",
    "final_model.load_weights('model_version_007_0.992.h5')"
   ]
  },
  {
   "cell_type": "code",
   "execution_count": 86,
   "metadata": {},
   "outputs": [],
   "source": [
    "train_gen_augm = ImageDataGenerator(rescale=1./255,\n",
    "                    rotation_range=40,\n",
    "                    width_shift_range=0.2,\n",
    "                    height_shift_range=0.2,\n",
    "                    shear_range=0.2,\n",
    "                    zoom_range=0.2,\n",
    "                    horizontal_flip=True,\n",
    "                    fill_mode='nearest')"
   ]
  },
  {
   "cell_type": "code",
   "execution_count": 87,
   "metadata": {},
   "outputs": [
    {
     "name": "stdout",
     "output_type": "stream",
     "text": [
      "Found 956 validated image filenames belonging to 4 classes.\n"
     ]
    }
   ],
   "source": [
    "train_ds_augm = train_gen_augm.flow_from_dataframe(\n",
    "    dataframe=df_train,\n",
    "    directory=\"./data/\",\n",
    "    x_col=\"filepaths\",\n",
    "    y_col=\"labels\",\n",
    "    batch_size=32,\n",
    "    shuffle=True,\n",
    "    class_mode=\"categorical\",\n",
    "    target_size=(150, 150))"
   ]
  },
  {
   "cell_type": "code",
   "execution_count": 88,
   "metadata": {},
   "outputs": [],
   "source": [
    "checkpoint = keras.callbacks.ModelCheckpoint('final_model_v_{epoch:03d}_{val_accuracy:.3f}.h5',\n",
    "                                            monitor='val_accuracy',\n",
    "                                            mode='max',\n",
    "                                            save_best_only=True, \n",
    "                                            )"
   ]
  },
  {
   "cell_type": "code",
   "execution_count": 89,
   "metadata": {},
   "outputs": [
    {
     "name": "stdout",
     "output_type": "stream",
     "text": [
      "Epoch 1/10\n",
      "30/30 [==============================] - 31s 990ms/step - loss: 0.3905 - accuracy: 0.8828 - val_loss: 0.1777 - val_accuracy: 0.9250\n",
      "Epoch 2/10\n",
      "30/30 [==============================] - 26s 854ms/step - loss: 0.2570 - accuracy: 0.9153 - val_loss: 0.2734 - val_accuracy: 0.9042\n",
      "Epoch 3/10\n",
      "30/30 [==============================] - 25s 835ms/step - loss: 0.2055 - accuracy: 0.9331 - val_loss: 0.0622 - val_accuracy: 0.9792\n",
      "Epoch 4/10\n",
      "30/30 [==============================] - 26s 864ms/step - loss: 0.2414 - accuracy: 0.9100 - val_loss: 0.0685 - val_accuracy: 0.9792\n",
      "Epoch 5/10\n",
      "30/30 [==============================] - 26s 850ms/step - loss: 0.1590 - accuracy: 0.9477 - val_loss: 0.5848 - val_accuracy: 0.8125\n",
      "Epoch 6/10\n",
      "30/30 [==============================] - 26s 845ms/step - loss: 0.1861 - accuracy: 0.9341 - val_loss: 0.0734 - val_accuracy: 0.9750\n",
      "Epoch 7/10\n",
      "30/30 [==============================] - 26s 843ms/step - loss: 0.1612 - accuracy: 0.9383 - val_loss: 0.1038 - val_accuracy: 0.9583\n",
      "Epoch 8/10\n",
      "30/30 [==============================] - 26s 852ms/step - loss: 0.2096 - accuracy: 0.9278 - val_loss: 0.0636 - val_accuracy: 0.9875\n",
      "Epoch 9/10\n",
      "30/30 [==============================] - 27s 896ms/step - loss: 0.1237 - accuracy: 0.9571 - val_loss: 0.0712 - val_accuracy: 0.9792\n",
      "Epoch 10/10\n",
      "30/30 [==============================] - 25s 837ms/step - loss: 0.1233 - accuracy: 0.9603 - val_loss: 0.0410 - val_accuracy: 0.9875\n"
     ]
    }
   ],
   "source": [
    "final_history = final_model.fit(train_ds_augm, \n",
    "                    epochs=10, \n",
    "                    validation_data=val_ds,\n",
    "                    callbacks=[checkpoint]\n",
    "                )"
   ]
  },
  {
   "cell_type": "code",
   "execution_count": 90,
   "metadata": {},
   "outputs": [],
   "source": [
    "final_model.load_weights('final_model_v_008_0.988.h5')"
   ]
  },
  {
   "cell_type": "code",
   "execution_count": 91,
   "metadata": {},
   "outputs": [
    {
     "name": "stdout",
     "output_type": "stream",
     "text": [
      "13/13 [==============================] - 4s 286ms/step - loss: 0.0634 - accuracy: 0.9800\n"
     ]
    },
    {
     "data": {
      "text/plain": [
       "0.9800000190734863"
      ]
     },
     "execution_count": 91,
     "metadata": {},
     "output_type": "execute_result"
    }
   ],
   "source": [
    "test_loss, test_acc = final_model.evaluate(test_ds)\n",
    "test_acc"
   ]
  },
  {
   "cell_type": "code",
   "execution_count": 110,
   "metadata": {},
   "outputs": [
    {
     "name": "stdout",
     "output_type": "stream",
     "text": [
      "model saved\n"
     ]
    }
   ],
   "source": [
    "final_model.save('final_model.h5')\n",
    "print('model saved')"
   ]
  },
  {
   "cell_type": "code",
   "execution_count": null,
   "metadata": {},
   "outputs": [],
   "source": []
  }
 ],
 "metadata": {
  "kernelspec": {
   "display_name": "base",
   "language": "python",
   "name": "python3"
  },
  "language_info": {
   "codemirror_mode": {
    "name": "ipython",
    "version": 3
   },
   "file_extension": ".py",
   "mimetype": "text/x-python",
   "name": "python",
   "nbconvert_exporter": "python",
   "pygments_lexer": "ipython3",
   "version": "3.9.7 (default, Sep 16 2021, 16:59:28) [MSC v.1916 64 bit (AMD64)]"
  },
  "orig_nbformat": 4,
  "vscode": {
   "interpreter": {
    "hash": "e0e7694be9d2b23754c7ef546c420f89f4d0e309da763131e7e276197527d08d"
   }
  }
 },
 "nbformat": 4,
 "nbformat_minor": 2
}
